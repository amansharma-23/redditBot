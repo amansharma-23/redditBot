{
  "nbformat": 4,
  "nbformat_minor": 0,
  "metadata": {
    "colab": {
      "name": "redditBot.ipynb",
      "provenance": []
    },
    "kernelspec": {
      "name": "python3",
      "display_name": "Python 3"
    },
    "language_info": {
      "name": "python"
    }
  },
  "cells": [
    {
      "cell_type": "code",
      "metadata": {
        "id": "LYEW95MiBoop"
      },
      "source": [
        "pip install praw"
      ],
      "execution_count": null,
      "outputs": []
    },
    {
      "cell_type": "code",
      "metadata": {
        "id": "EH52Ph_5B3S9"
      },
      "source": [
        "import praw\n",
        "import time\n",
        "from urllib.parse import quote_plus\n",
        "\n",
        "reddit = praw.Reddit(\n",
        "    client_id=\"QZyRrPgke4Qpqt4FtnDj0g\",\n",
        "    client_secret=\"XPYwvKiYVMu2pIZNQIkddbaoQbLbHw\",\n",
        "    user_agent=\"<console:test:1.0>\",\n",
        "    username=\"test-bot-lmgtfy\",\n",
        "    password=\"9bXwRhmRTbvep8D\",\n",
        ")"
      ],
      "execution_count": 2,
      "outputs": []
    },
    {
      "cell_type": "code",
      "metadata": {
        "id": "xiG_Od6sOecJ"
      },
      "source": [
        "subreddit = reddit.subreddit(\"AskReddit\")"
      ],
      "execution_count": 3,
      "outputs": []
    },
    {
      "cell_type": "code",
      "metadata": {
        "id": "b3YukX1nO45I"
      },
      "source": [
        "# for post in subreddit.hot(limit=10):\n",
        "#   # print(post.title)\n",
        "#   # print(\"************\")\n",
        "#   for comment in post.comments:\n",
        "#     if hasattr(comment,\"body\"):\n",
        "#       comment_lower = comment.body.lower()\n",
        "#       if \" sad \" in comment_lower:\n",
        "#         print(comment.body)\n",
        "#         comment.reply(\"You are never too old to set another goal or to dream a new dream.\")\n",
        "#         time.sleep(660)\n",
        "#         print(\"************\")\n"
      ],
      "execution_count": null,
      "outputs": []
    },
    {
      "cell_type": "code",
      "metadata": {
        "id": "8YrGsoZeVbFN"
      },
      "source": [
        "QUESTIONS = [\"what is\", \"who is\", \"what are\"]\n",
        "REPLY_TEMPLATE = \"[Let me google that for you](https://lmgtfy.com/?q={})\"\n",
        "\n",
        "def process_submission(submission):\n",
        "  print(submission.title)\n",
        "  if len(submission.title.split())>10:\n",
        "    return\n",
        "  normalized_title = submission.title.lower()\n",
        "  for question_phrase in QUESTIONS:\n",
        "    if question_phrase in normalized_title:\n",
        "      url_title = quote_plus(submission.title)\n",
        "      reply_text = REPLY_TEMPLATE.format(url_title)\n",
        "      submission.reply(reply_text)\n",
        "      print(\"***************\")\n",
        "      print(reply_text)\n",
        "      print(\"***************\")\n",
        "      return\n",
        "\n",
        "for submission in subreddit.stream.submissions():\n",
        "  process_submission(submission)\n",
        "\n",
        "\n"
      ],
      "execution_count": null,
      "outputs": []
    }
  ]
}